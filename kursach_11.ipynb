{
 "cells": [
  {
   "cell_type": "code",
   "execution_count": 56,
   "metadata": {
    "scrolled": true
   },
   "outputs": [
    {
     "name": "stdout",
     "output_type": "stream",
     "text": [
      "1 4 2 3\n",
      "[1, 2, 3, 4]\n"
     ]
    }
   ],
   "source": [
    "\"\"\"pervoe zadanie - sortirovka vyborom\"\"\"\n",
    "Arr = list(map(int, input().split()))\n",
    "def sortirovka(mass):\n",
    "    for i, j in enumerate(mass):\n",
    "        mn = min(range(i, len(mass)), key=mass.__getitem__)\n",
    "        mass[i], mass[mn] = mass[mn], j #свапаем\n",
    "    return mass\n",
    "print (sortirovka (Arr))"
   ]
  },
  {
   "cell_type": "code",
   "execution_count": 6,
   "metadata": {},
   "outputs": [
    {
     "name": "stdout",
     "output_type": "stream",
     "text": [
      "45\n",
      "3\n",
      "<__main__.node object at 0x10863f9e8>\n",
      "1\n",
      "2\n"
     ]
    }
   ],
   "source": [
    "\"\"\"vtoroe zsdanie - dvusvyazhyy spisok\"\"\"\n",
    "\n",
    "class node():\n",
    "    def __init__(self, data, prev, next):\n",
    "        self.data = data\n",
    "        self.prev = prev\n",
    "        self.next = next\n",
    "\n",
    "class DLL():\n",
    "    def __init__(self):\n",
    "        self.head = None\n",
    "        self.tail = None\n",
    "        \n",
    "    def add_node(self, data):\n",
    "        new_node = node(data, None, None)\n",
    "        if self.head is None:\n",
    "            self.head = self.tail = new_node\n",
    "        else:\n",
    "            new_node.prev = self.tail\n",
    "            new_node.next = None\n",
    "            self.tail.next = new_node\n",
    "            self.tail = new_node\n",
    "\n",
    "    def delete_node(self, num):\n",
    "        counter = 0\n",
    "        current = self.head\n",
    "        while counter <= num:\n",
    "            if counter == num:\n",
    "                if current.prev is None:\n",
    "                    self.head = current.next\n",
    "                    current.data = None\n",
    "                else:\n",
    "                    current.prev.next = current.next\n",
    "                    current.next.prev = current.prev\n",
    "            counter += 1\n",
    "            current = current.next\n",
    "        \n",
    "    def lengof(self):\n",
    "        current_node = self.head\n",
    "        if current_node is None:\n",
    "            return 0\n",
    "        else:\n",
    "            count = 0\n",
    "            while current_node is not None:\n",
    "                current_node = current_node.next\n",
    "                count += 1\n",
    "            return count\n",
    "\n",
    "    def get_item(self, num):\n",
    "        counter = 0\n",
    "        current = self.head\n",
    "        while counter < num:\n",
    "            counter += 1\n",
    "            current = current.next\n",
    "        return current\n",
    "    \n",
    "Arr = DLL()\n",
    "Arr.add_node(int(input()))\n",
    "Arr.add_node(9)\n",
    "Arr.add_node(10)\n",
    "print (Arr.lengof())\n",
    "print (Arr.get_item(1))\n",
    "\n",
    "Arr.delete_node(int(input()))\n",
    "\n",
    "print (Arr.lengof())"
   ]
  },
  {
   "cell_type": "code",
   "execution_count": null,
   "metadata": {},
   "outputs": [],
   "source": [
    "\"\"\"tret'e zadanie - reshenie slau \"\"\""
   ]
  }
 ],
 "metadata": {
  "kernelspec": {
   "display_name": "Python 3",
   "language": "python",
   "name": "python3"
  },
  "language_info": {
   "codemirror_mode": {
    "name": "ipython",
    "version": 3
   },
   "file_extension": ".py",
   "mimetype": "text/x-python",
   "name": "python",
   "nbconvert_exporter": "python",
   "pygments_lexer": "ipython3",
   "version": "3.7.1"
  }
 },
 "nbformat": 4,
 "nbformat_minor": 2
}
