{
 "cells": [
  {
   "cell_type": "code",
   "execution_count": 56,
   "metadata": {},
   "outputs": [
    {
     "name": "stdout",
     "output_type": "stream",
     "text": [
      "1 4 2 3\n",
      "[1, 2, 3, 4]\n"
     ]
    }
   ],
   "source": [
    "\"\"\"pervoe zadanie - sortirovka vyborom\"\"\"\n",
    "Arr = list(map(int, input().split()))\n",
    "def sortirovka(mass):\n",
    "    for i, j in enumerate(mass):\n",
    "        mn = min(range(i, len(mass)), key=mass.__getitem__)\n",
    "        mass[i], mass[mn] = mass[mn], j #свапаем\n",
    "    return mass\n",
    "print (sortirovka (Arr))"
   ]
  },
  {
   "cell_type": "code",
   "execution_count": null,
   "metadata": {},
   "outputs": [],
   "source": [
    "\"\"\"vtoroe zsdanie - dvusvyazhyy spisok\"\"\"\n",
    "\n",
    "class point():\n",
    "    def __init__(self, data, prev, next):\n",
    "        self.data = data\n",
    "        self.prev = prev\n",
    "        self.next = next\n",
    "\n",
    "class linkedlist():\n",
    "    def __init__(self):\n",
    "        self.head = None\n",
    "        self.tail = None\n",
    "        \n",
    "    def __repr__(self):\n",
    "        return \"svyaznyy spisok\"\n",
    "    \n",
    "    def add_point(self, data):\n",
    "        new_point = point(data, None, None)\n",
    "        if self.head is None:\n",
    "            self.head = self.tail = new_point\n",
    "        else:\n",
    "            new_point.prev = self.tail\n",
    "            new_point.next = None\n",
    "            self.tail.next = new_point\n",
    "            self.tail = new_point\n",
    "\n",
    "    def delete_point(self, num):\n",
    "        count = 0\n",
    "        current_point = self.head\n",
    "        while True:\n",
    "            if count == num:\n",
    "                if current_point.prev is not None:\n",
    "                    current_point.prev.next = current_point.next\n",
    "                    current_point.next.prev = current_point.prev\n",
    "                else:\n",
    "                    self.head = current_point.next\n",
    "                    current_point.next.prev = None\n",
    "                break\n",
    "            count += 1\n",
    "            current_npoint = current_point.next\n",
    "        \n",
    "    def lengof(self):\n",
    "            current_node = self.head\n",
    "\n",
    "            if current_node is None:\n",
    "                return 0\n",
    "            else:\n",
    "                count = 0\n",
    "                while current_node is not None:\n",
    "                    current_node = current_node.next\n",
    "                    count += 1\n",
    "                return count\n",
    "Arr = linkedlist()\n",
    "Arr.add_point(input())\n",
    "Arr.add_point(56)\n",
    "Arr.add_point(57)\n",
    "print (Arr.lengof())\n",
    "print (Arr)"
   ]
  },
  {
   "cell_type": "code",
   "execution_count": null,
   "metadata": {},
   "outputs": [],
   "source": [
    "\"\"\"tret'e zadanie - reshenie slau \"\"\""
   ]
  }
 ],
 "metadata": {
  "kernelspec": {
   "display_name": "Python 3",
   "language": "python",
   "name": "python3"
  },
  "language_info": {
   "codemirror_mode": {
    "name": "ipython",
    "version": 3
   },
   "file_extension": ".py",
   "mimetype": "text/x-python",
   "name": "python",
   "nbconvert_exporter": "python",
   "pygments_lexer": "ipython3",
   "version": "3.7.1"
  }
 },
 "nbformat": 4,
 "nbformat_minor": 2
}
