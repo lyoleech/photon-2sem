{
 "cells": [
  {
   "cell_type": "code",
   "execution_count": 8,
   "metadata": {},
   "outputs": [
    {
     "name": "stdin",
     "output_type": "stream",
     "text": [
      " dtv1234aytsdf12\n"
     ]
    },
    {
     "name": "stdout",
     "output_type": "stream",
     "text": [
      "4\n"
     ]
    }
   ],
   "source": [
    "n = input()\n",
    "\n",
    "k = 0\n",
    "maximum = 0\n",
    "\n",
    "for i in range (len(n)):\n",
    "    if n[i].isdigit() == True:\n",
    "        k += 1\n",
    "    else:\n",
    "        maximum = max(maximum, k)\n",
    "        k = 0 \n",
    "\n",
    "print(maximum)"
   ]
  },
  {
   "cell_type": "code",
   "execution_count": 34,
   "metadata": {},
   "outputs": [
    {
     "name": "stdin",
     "output_type": "stream",
     "text": [
      " 23546+34556\n"
     ]
    },
    {
     "name": "stdout",
     "output_type": "stream",
     "text": [
      "58102\n"
     ]
    }
   ],
   "source": [
    "s = input()\n",
    "\n",
    "operators = {'+': (lambda x, y: x + y), '-': (lambda x, y: x - y),\n",
    "             '*': (lambda x, y: x * y), '/': (lambda x, y: x / y)}\n",
    " \n",
    "for i in range (len(s)):\n",
    "    if s[i] in operators:\n",
    "        op = i\n",
    "\n",
    "x = int(s[:op])\n",
    "y = int(s[op+1:])\n",
    "\n",
    "print (operators[s[op]](x,y))"
   ]
  },
  {
   "cell_type": "markdown",
   "metadata": {},
   "source": []
  },
  {
   "cell_type": "code",
   "execution_count": null,
   "metadata": {},
   "outputs": [],
   "source": []
  },
  {
   "cell_type": "code",
   "execution_count": 3,
   "metadata": {},
   "outputs": [
    {
     "name": "stdin",
     "output_type": "stream",
     "text": [
      " 5\n"
     ]
    },
    {
     "name": "stdout",
     "output_type": "stream",
     "text": [
      "[1, 2, 2, 3, 5]\n"
     ]
    }
   ],
   "source": [
    "import random \n",
    "\n",
    "n = [0] * int(input())\n",
    "\n",
    "for i in range (len(n)):\n",
    "    n[i] = random.randint(1,6)\n",
    "    \n",
    "print (sorted(n))"
   ]
  },
  {
   "cell_type": "code",
   "execution_count": null,
   "metadata": {},
   "outputs": [],
   "source": []
  }
 ],
 "metadata": {
  "kernelspec": {
   "display_name": "Python 3",
   "language": "python",
   "name": "python3"
  },
  "language_info": {
   "codemirror_mode": {
    "name": "ipython",
    "version": 3
   },
   "file_extension": ".py",
   "mimetype": "text/x-python",
   "name": "python",
   "nbconvert_exporter": "python",
   "pygments_lexer": "ipython3",
   "version": "3.7.1"
  }
 },
 "nbformat": 4,
 "nbformat_minor": 2
}
