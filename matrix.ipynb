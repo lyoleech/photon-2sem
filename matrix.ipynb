{
 "cells": [
  {
   "cell_type": "code",
   "execution_count": 48,
   "metadata": {},
   "outputs": [
    {
     "name": "stdin",
     "output_type": "stream",
     "text": [
      " 098765432\n"
     ]
    },
    {
     "name": "stdout",
     "output_type": "stream",
     "text": [
      "098765432\n",
      "[[0 9 8]\n",
      " [7 6 5]\n",
      " [4 3 2]]\n",
      "30\n"
     ]
    }
   ],
   "source": [
    "elements=str(input())\n",
    "if len(elements)!=9:\n",
    "    raise SystemExit(\"Error! Excepted 9 characters - entred\", len(elements))\n",
    "import numpy as np\n",
    "a = np.arange(9).reshape((3,3))\n",
    "for i in range (3):\n",
    "    for j in range (3):\n",
    "        a[i][j]=elements[i*2+j+i]\n",
    "print (elements, a, int(linalg.det(a)), sep='\\n')"
   ]
  }
 ],
 "metadata": {
  "kernelspec": {
   "display_name": "Python 3",
   "language": "python",
   "name": "python3"
  },
  "language_info": {
   "codemirror_mode": {
    "name": "ipython",
    "version": 3
   },
   "file_extension": ".py",
   "mimetype": "text/x-python",
   "name": "python",
   "nbconvert_exporter": "python",
   "pygments_lexer": "ipython3",
   "version": "3.7.1"
  }
 },
 "nbformat": 4,
 "nbformat_minor": 2
}
